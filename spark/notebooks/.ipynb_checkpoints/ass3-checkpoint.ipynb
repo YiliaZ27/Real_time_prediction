{
 "cells": [
  {
   "cell_type": "code",
   "execution_count": 1,
   "id": "a0cd76ee",
   "metadata": {},
   "outputs": [],
   "source": [
    "import glob\n",
    "import numpy as np\n",
    "import pandas as pd\n",
    "import matplotlib.pyplot as plt\n",
    "from pyspark import SparkContext\n",
    "from pyspark.sql import DataFrame\n",
    "import pyspark.sql.functions as f\n",
    "from pyspark.streaming import StreamingContext\n",
    "from pyspark.sql import SQLContext\n",
    "from pyspark.ml.feature import HashingTF, IDF, Tokenizer,StringIndexer, VectorIndexer, RegexTokenizer, StopWordsRemover\n",
    "from pyspark.ml import Pipeline\n",
    "from pyspark.ml.classification import GBTClassifier, LinearSVC\n",
    "from pyspark.sql.types import IntegerType\n",
    "from pyspark.ml.tuning import CrossValidator, ParamGridBuilder\n",
    "#from pyspark.ml.evaluation import BinaryClassificationEvaluator\n",
    "import seaborn as sns\n",
    "from collections import Counter\n",
    "import warnings\n",
    "warnings.filterwarnings(\"ignore\")\n"
   ]
  },
  {
   "cell_type": "code",
   "execution_count": 2,
   "id": "fdaf1b85",
   "metadata": {},
   "outputs": [
    {
     "data": {
      "text/html": [
       "\n",
       "        <div>\n",
       "            <p><b>SparkContext</b></p>\n",
       "\n",
       "            <p><a href=\"http://192.168.0.182:4040\">Spark UI</a></p>\n",
       "\n",
       "            <dl>\n",
       "              <dt>Version</dt>\n",
       "                <dd><code>v3.2.1</code></dd>\n",
       "              <dt>Master</dt>\n",
       "                <dd><code>local[*]</code></dd>\n",
       "              <dt>AppName</dt>\n",
       "                <dd><code>PySparkShell</code></dd>\n",
       "            </dl>\n",
       "        </div>\n",
       "        "
      ],
      "text/plain": [
       "<SparkContext master=local[*] appName=PySparkShell>"
      ]
     },
     "execution_count": 2,
     "metadata": {},
     "output_type": "execute_result"
    }
   ],
   "source": [
    "sc"
   ]
  },
  {
   "cell_type": "markdown",
   "id": "0e5ecc24",
   "metadata": {},
   "source": [
    "## Report Structure\n",
    "**1. EDA**  \n",
    "**steps need to be mentioned in report:**\n",
    "+ The total rows extracted from twitch, and the channel nums (here, they are two channels: #thestockguy and #distortion2\n",
    "+ merge 'message' and 'user' columns into one column\n",
    "reason: as different channels may have different users, it's worth to utilise username as a feature. And the experiment results show add username as a feature do improve the accuracy score\n",
    "+ splitting 'user_msg' into words using '\\\\W' pattern\n",
    "it will be good to explain a bit about regular expression, and the '\\\\W' meaning here in report\n",
    "+ remove default stopwords using pyspark stopwords library\n",
    "+ plots: 1) Character count; 2) Word count; 3) Average word count; 4) Common words in both channels \n",
    "\n",
    "\n",
    "**2. Text Mining**  \n",
    "+ RegexTokenizer\n",
    "+ StopWordsRemover (need to note there are two steps: 1)using default one; 2)add custom one based on the 'Common words in both channels' plot\n",
    "+ TF-IDF\n",
    "\n",
    "**3. Model**  \n",
    "+ Gradient-boosted tree classifier\n",
    "+ Linear Support Vector Machine\n",
    "+ results: 1)confusion matrix; 2)classification report\n",
    "\n",
    "**4. Full Spark ML Pipeline for real-time prediction**  \n",
    "In this part, add screen shots of the full pipeline code and the real-time prediction results\n",
    "+ text mining\n",
    "+ model building\n",
    "+ real-time prediction results "
   ]
  },
  {
   "cell_type": "markdown",
   "id": "c53a0af5",
   "metadata": {},
   "source": [
    "## EDA"
   ]
  },
  {
   "cell_type": "code",
   "execution_count": 33,
   "id": "93be43f2",
   "metadata": {},
   "outputs": [
    {
     "name": "stderr",
     "output_type": "stream",
     "text": [
      "                                                                                \r"
     ]
    },
    {
     "name": "stdout",
     "output_type": "stream",
     "text": [
      "The dataset consists 29678 rows\n",
      "+------------+--------------------+--------------------+--------------------+\n",
      "|     channel|            datetime|             message|            username|\n",
      "+------------+--------------------+--------------------+--------------------+\n",
      "|#thestockguy|2022-05-02T17:04:...| 380 circuit breaker|mu_seventyfivedol...|\n",
      "|#thestockguy|2022-05-02T17:04:...|FIRE FIRE FIRE FI...|          neugrenade|\n",
      "|#thestockguy|2022-05-02T17:04:...|         401k looted|        imdonwitcave|\n",
      "|#thestockguy|2022-05-02T17:04:...|stockholm had a 8...|            ktrzetto|\n",
      "|#thestockguy|2022-05-02T17:04:...|Wait chat, let’s ...|         salmon_fund|\n",
      "|#thestockguy|2022-05-02T17:04:...|i thought a run u...|        mesmerizedbj|\n",
      "|#thestockguy|2022-05-02T17:04:...|            monkaHmm|              soigne|\n",
      "|#thestockguy|2022-05-02T17:04:...|               5Head|         kappanadian|\n",
      "|#thestockguy|2022-05-02T17:04:...|          WAYTOODANK|    maths_psychopath|\n",
      "|#thestockguy|2022-05-02T17:04:...|backwards tax 401...|        imdonwitcave|\n",
      "|#thestockguy|2022-05-02T17:04:...|          ThisIsFine|        rustyrocketz|\n",
      "|#thestockguy|2022-05-02T17:04:...|      rugpull monkaS|          cozyviewer|\n",
      "|#thestockguy|2022-05-02T17:04:...|@TheStockGuy I'm ...|           bigcojone|\n",
      "|#thestockguy|2022-05-02T17:05:...|      BLANKIES  FIRE|       snoopadillios|\n",
      "|#thestockguy|2022-05-02T17:05:...|             412 eod|        mesmerizedbj|\n",
      "|#thestockguy|2022-05-02T17:05:...|@TheStockGuy why ...|           favored__|\n",
      "|#thestockguy|2022-05-02T17:05:...|                FIRE|            1cyveins|\n",
      "|#thestockguy|2022-05-02T17:05:...|            under 4?|              gddhkt|\n",
      "|#thestockguy|2022-05-02T17:05:...|       modCheck bets|        spiderplants|\n",
      "|#thestockguy|2022-05-02T17:05:...|ngl im jus playin...|            roshgoat|\n",
      "+------------+--------------------+--------------------+--------------------+\n",
      "only showing top 20 rows\n",
      "\n"
     ]
    }
   ],
   "source": [
    "#import data\n",
    "files = glob.glob('../data/**/part*')\n",
    "sqlContext = SQLContext(sc)\n",
    "data = sqlContext.read.format('json').option(\"header\", \"true\").load(files)\n",
    "print(\"The dataset consists %s\" % data.count() + ' rows')\n",
    "data.show()"
   ]
  },
  {
   "cell_type": "code",
   "execution_count": 20,
   "id": "e619f2c2",
   "metadata": {},
   "outputs": [],
   "source": [
    "#combine 'message' and 'username' columns into one, so that username can be utilised as a feature\n",
    "data=data.select(\"*\", f.concat(f.col(\"message\"),f.lit(\" \"),f.col(\"username\")).alias(\"user_msg\"))\n"
   ]
  },
  {
   "cell_type": "code",
   "execution_count": 5,
   "id": "318917bd",
   "metadata": {},
   "outputs": [],
   "source": [
    "#splitting 'user_msg' into words using '\\\\W' pattern\n",
    "reTokenizer = RegexTokenizer(inputCol=\"user_msg\", outputCol=\"words\", pattern=\"\\\\W\")\n",
    "reTokenized = reTokenizer.transform(data)\n"
   ]
  },
  {
   "cell_type": "code",
   "execution_count": 6,
   "id": "5abf96e9",
   "metadata": {},
   "outputs": [],
   "source": [
    "defaultWords = StopWordsRemover.loadDefaultStopWords('english')\n",
    "defaultStopWordsRemover = StopWordsRemover(inputCol='words', outputCol='filtered').setStopWords(defaultWords)\n",
    "data_filter = defaultStopWordsRemover.transform(reTokenized)\n"
   ]
  },
  {
   "cell_type": "code",
   "execution_count": 7,
   "id": "0b0f56be",
   "metadata": {},
   "outputs": [],
   "source": [
    "countTokens = f.udf(lambda words: len(words), IntegerType())\n",
    "data_filter = data_filter.withColumn(\"tokens\", countTokens(f.col(\"words\")))\n",
    "#data.show()"
   ]
  },
  {
   "cell_type": "markdown",
   "id": "ec728614",
   "metadata": {},
   "source": [
    "Since pyspark doesn't have plotting functions, it's more convenient to transfer the data into pandas dataframe and do the following EDA"
   ]
  },
  {
   "cell_type": "code",
   "execution_count": 10,
   "id": "01fdc58c",
   "metadata": {},
   "outputs": [
    {
     "name": "stderr",
     "output_type": "stream",
     "text": [
      "                                                                                \r"
     ]
    },
    {
     "data": {
      "text/html": [
       "<div>\n",
       "<style scoped>\n",
       "    .dataframe tbody tr th:only-of-type {\n",
       "        vertical-align: middle;\n",
       "    }\n",
       "\n",
       "    .dataframe tbody tr th {\n",
       "        vertical-align: top;\n",
       "    }\n",
       "\n",
       "    .dataframe thead th {\n",
       "        text-align: right;\n",
       "    }\n",
       "</style>\n",
       "<table border=\"1\" class=\"dataframe\">\n",
       "  <thead>\n",
       "    <tr style=\"text-align: right;\">\n",
       "      <th></th>\n",
       "      <th>channel</th>\n",
       "      <th>datetime</th>\n",
       "      <th>message</th>\n",
       "      <th>username</th>\n",
       "      <th>user_msg</th>\n",
       "      <th>words</th>\n",
       "      <th>filtered</th>\n",
       "      <th>tokens</th>\n",
       "      <th>cha_count</th>\n",
       "      <th>avg_word_len</th>\n",
       "    </tr>\n",
       "  </thead>\n",
       "  <tbody>\n",
       "    <tr>\n",
       "      <th>0</th>\n",
       "      <td>#thestockguy</td>\n",
       "      <td>2022-05-02T17:04:37.388647</td>\n",
       "      <td>380 circuit breaker</td>\n",
       "      <td>mu_seventyfivedollarcalls</td>\n",
       "      <td>380 circuit breaker mu_seventyfivedollarcalls</td>\n",
       "      <td>[380, circuit, breaker, mu_seventyfivedollarca...</td>\n",
       "      <td>[380, circuit, breaker, mu_seventyfivedollarca...</td>\n",
       "      <td>4</td>\n",
       "      <td>45</td>\n",
       "      <td>10.500000</td>\n",
       "    </tr>\n",
       "    <tr>\n",
       "      <th>1</th>\n",
       "      <td>#thestockguy</td>\n",
       "      <td>2022-05-02T17:04:40.415155</td>\n",
       "      <td>FIRE FIRE FIRE FIRE FIRE FIRE FIRE FIRE FIRE B...</td>\n",
       "      <td>neugrenade</td>\n",
       "      <td>FIRE FIRE FIRE FIRE FIRE FIRE FIRE FIRE FIRE B...</td>\n",
       "      <td>[fire, fire, fire, fire, fire, fire, fire, fir...</td>\n",
       "      <td>[fire, fire, fire, fire, fire, fire, fire, fir...</td>\n",
       "      <td>24</td>\n",
       "      <td>129</td>\n",
       "      <td>4.416667</td>\n",
       "    </tr>\n",
       "    <tr>\n",
       "      <th>2</th>\n",
       "      <td>#thestockguy</td>\n",
       "      <td>2022-05-02T17:04:40.827561</td>\n",
       "      <td>401k looted</td>\n",
       "      <td>imdonwitcave</td>\n",
       "      <td>401k looted imdonwitcave</td>\n",
       "      <td>[401k, looted, imdonwitcave]</td>\n",
       "      <td>[401k, looted, imdonwitcave]</td>\n",
       "      <td>3</td>\n",
       "      <td>24</td>\n",
       "      <td>7.333333</td>\n",
       "    </tr>\n",
       "    <tr>\n",
       "      <th>3</th>\n",
       "      <td>#thestockguy</td>\n",
       "      <td>2022-05-02T17:04:41.018288</td>\n",
       "      <td>stockholm had a 8% flash crash on open today</td>\n",
       "      <td>ktrzetto</td>\n",
       "      <td>stockholm had a 8% flash crash on open today k...</td>\n",
       "      <td>[stockholm, had, a, 8, flash, crash, on, open,...</td>\n",
       "      <td>[stockholm, 8, flash, crash, open, today, ktrz...</td>\n",
       "      <td>10</td>\n",
       "      <td>53</td>\n",
       "      <td>4.300000</td>\n",
       "    </tr>\n",
       "    <tr>\n",
       "      <th>4</th>\n",
       "      <td>#thestockguy</td>\n",
       "      <td>2022-05-02T17:04:45.516897</td>\n",
       "      <td>Wait chat, let’s time this, let’s focus on mor...</td>\n",
       "      <td>salmon_fund</td>\n",
       "      <td>Wait chat, let’s time this, let’s focus on mor...</td>\n",
       "      <td>[wait, chat, let, s, time, this, let, s, focus...</td>\n",
       "      <td>[wait, chat, let, time, let, focus, calls, sal...</td>\n",
       "      <td>14</td>\n",
       "      <td>73</td>\n",
       "      <td>3.928571</td>\n",
       "    </tr>\n",
       "  </tbody>\n",
       "</table>\n",
       "</div>"
      ],
      "text/plain": [
       "        channel                    datetime  \\\n",
       "0  #thestockguy  2022-05-02T17:04:37.388647   \n",
       "1  #thestockguy  2022-05-02T17:04:40.415155   \n",
       "2  #thestockguy  2022-05-02T17:04:40.827561   \n",
       "3  #thestockguy  2022-05-02T17:04:41.018288   \n",
       "4  #thestockguy  2022-05-02T17:04:45.516897   \n",
       "\n",
       "                                             message  \\\n",
       "0                                380 circuit breaker   \n",
       "1  FIRE FIRE FIRE FIRE FIRE FIRE FIRE FIRE FIRE B...   \n",
       "2                                        401k looted   \n",
       "3       stockholm had a 8% flash crash on open today   \n",
       "4  Wait chat, let’s time this, let’s focus on mor...   \n",
       "\n",
       "                    username  \\\n",
       "0  mu_seventyfivedollarcalls   \n",
       "1                 neugrenade   \n",
       "2               imdonwitcave   \n",
       "3                   ktrzetto   \n",
       "4                salmon_fund   \n",
       "\n",
       "                                            user_msg  \\\n",
       "0      380 circuit breaker mu_seventyfivedollarcalls   \n",
       "1  FIRE FIRE FIRE FIRE FIRE FIRE FIRE FIRE FIRE B...   \n",
       "2                           401k looted imdonwitcave   \n",
       "3  stockholm had a 8% flash crash on open today k...   \n",
       "4  Wait chat, let’s time this, let’s focus on mor...   \n",
       "\n",
       "                                               words  \\\n",
       "0  [380, circuit, breaker, mu_seventyfivedollarca...   \n",
       "1  [fire, fire, fire, fire, fire, fire, fire, fir...   \n",
       "2                       [401k, looted, imdonwitcave]   \n",
       "3  [stockholm, had, a, 8, flash, crash, on, open,...   \n",
       "4  [wait, chat, let, s, time, this, let, s, focus...   \n",
       "\n",
       "                                            filtered  tokens  cha_count  \\\n",
       "0  [380, circuit, breaker, mu_seventyfivedollarca...       4         45   \n",
       "1  [fire, fire, fire, fire, fire, fire, fire, fir...      24        129   \n",
       "2                       [401k, looted, imdonwitcave]       3         24   \n",
       "3  [stockholm, 8, flash, crash, open, today, ktrz...      10         53   \n",
       "4  [wait, chat, let, time, let, focus, calls, sal...      14         73   \n",
       "\n",
       "   avg_word_len  \n",
       "0     10.500000  \n",
       "1      4.416667  \n",
       "2      7.333333  \n",
       "3      4.300000  \n",
       "4      3.928571  "
      ]
     },
     "execution_count": 10,
     "metadata": {},
     "output_type": "execute_result"
    }
   ],
   "source": [
    "data_pd = data_filter.toPandas()\n",
    "data_pd['cha_count'] = data_pd['user_msg'].apply(len)\n",
    "def avg_word_len(string):\n",
    "    word_len = [len(word) for word in string]\n",
    "    avg_word_len = sum(word_len)/len(string)\n",
    "    return avg_word_len\n",
    "data_pd['avg_word_len'] = data_pd['words'].apply(avg_word_len)\n",
    "data_pd.head()"
   ]
  },
  {
   "cell_type": "code",
   "execution_count": 11,
   "id": "4cbdf320",
   "metadata": {},
   "outputs": [
    {
     "data": {
      "image/png": "[encoded data removed]",
      "text/plain": [
       "<Figure size 648x360 with 3 Axes>"
      ]
     },
     "metadata": {
      "needs_background": "light"
     },
     "output_type": "display_data"
    }
   ],
   "source": [
    "fig, (ax1, ax2) = plt.subplots(1, 2, figsize=(9,5))\n",
    "fig.suptitle('Character Count Distribution')\n",
    "ax1.hist(data_pd['cha_count'][data_pd['channel']=='#distortion2'])\n",
    "#ax1 = data_pd['chrct_count'][data_pd['channel']=='#distortion2'].hist()\n",
    "ax2.hist(data_pd['cha_count'][data_pd['channel']=='#thestockguy'])\n",
    "ax1.set_title('channel #distortion2')\n",
    "ax2.set_title('channel #thestockguy')\n",
    "ax1.set_ylabel('Messages')\n",
    "fig.add_subplot(111, frame_on=False)\n",
    "plt.tick_params(labelcolor=\"none\", bottom=False, left=False)\n",
    "plt.xlabel(\"Character Count\")\n",
    "plt.show()"
   ]
  },
  {
   "cell_type": "code",
   "execution_count": 13,
   "id": "a20c1d00",
   "metadata": {},
   "outputs": [
    {
     "data": {
      "image/png": "[encoded data removed]",
      "text/plain": [
       "<Figure size 720x360 with 3 Axes>"
      ]
     },
     "metadata": {
      "needs_background": "light"
     },
     "output_type": "display_data"
    }
   ],
   "source": [
    "fig, (ax1, ax2) = plt.subplots(1, 2, figsize=(10,5))\n",
    "fig.suptitle('Words Count Distribution')\n",
    "ax1.hist(data_pd['tokens'][data_pd['channel']=='#distortion2'])\n",
    "#ax1 = data_pd['chrct_count'][data_pd['channel']=='#distortion2'].hist()\n",
    "ax2.hist(data_pd['tokens'][data_pd['channel']=='#thestockguy'])\n",
    "ax1.set_title('channel #distortion2')\n",
    "ax2.set_title('channel #thestockguy')\n",
    "ax1.set_ylabel('Messages')\n",
    "fig.add_subplot(111, frame_on=False)\n",
    "plt.tick_params(labelcolor=\"none\", bottom=False, left=False)\n",
    "plt.xlabel(\"Words Count\")\n",
    "plt.show()\n"
   ]
  },
  {
   "cell_type": "code",
   "execution_count": 14,
   "id": "77a4f08d",
   "metadata": {},
   "outputs": [
    {
     "data": {
      "image/png": "[encoded data removed]",
      "text/plain": [
       "<Figure size 720x360 with 3 Axes>"
      ]
     },
     "metadata": {
      "needs_background": "light"
     },
     "output_type": "display_data"
    }
   ],
   "source": [
    "fig, (ax1, ax2) = plt.subplots(1, 2, figsize=(10,5))\n",
    "fig.suptitle('Average Words Count Distribution')\n",
    "ax1.hist(data_pd['avg_word_len'][data_pd['channel']=='#distortion2'])\n",
    "ax2.hist(data_pd['avg_word_len'][data_pd['channel']=='#thestockguy'])\n",
    "ax1.set_title('channel #distortion2')\n",
    "ax2.set_title('channel #thestockguy')\n",
    "ax1.set_ylabel('Messages')\n",
    "fig.add_subplot(111, frame_on=False)\n",
    "plt.tick_params(labelcolor=\"none\", bottom=False, left=False)\n",
    "plt.xlabel(\"Average Words Count\")\n",
    "plt.show()"
   ]
  },
  {
   "cell_type": "code",
   "execution_count": 16,
   "id": "1967498c",
   "metadata": {
    "scrolled": false
   },
   "outputs": [
    {
     "data": {
      "text/plain": [
       "Text(0.5, 1.0, 'Common Words for Both Channels (Count > 100)')"
      ]
     },
     "execution_count": 16,
     "metadata": {},
     "output_type": "execute_result"
    },
    {
     "data": {
      "image/png": "[encoded data removed]",
      "text/plain": [
       "<Figure size 576x576 with 1 Axes>"
      ]
     },
     "metadata": {
      "needs_background": "light"
     },
     "output_type": "display_data"
    }
   ],
   "source": [
    "words_lst1 = [word for word in data_pd['filtered'][data_pd['channel'] == '#distortion2']]\n",
    "#stop_words = set(stopwords.words('english'))\n",
    "word_count = {}\n",
    "for words in words_lst1:\n",
    "    #words = msg.split()\n",
    "    for word in words:\n",
    "        #if word not in stop_words:\n",
    "            if word not in word_count:\n",
    "                word_count[word] = 1\n",
    "            else:\n",
    "                word_count[word] += 1\n",
    "            \n",
    "counter = Counter(word_count).most_common()\n",
    "df1 = pd.DataFrame(counter, columns=['Word', 'Count'])\n",
    "df1.sort_values('Count',ascending=False)\n",
    "#df1.head()\n",
    "\n",
    "words_lst2 = [word for word in data_pd['filtered'][data_pd['channel'] == '#thestockguy']]\n",
    "word_count = {}\n",
    "for words in words_lst2:\n",
    "    #words = msg.split()\n",
    "    for word in words:\n",
    "        #if word not in stop_words:\n",
    "            if word not in word_count:\n",
    "                word_count[word] = 1\n",
    "            else:\n",
    "                word_count[word] += 1\n",
    "            \n",
    "counter = Counter(word_count).most_common()\n",
    "df2 = pd.DataFrame(counter, columns=['Word', 'Count'])\n",
    "df1 = df1[df1.Count > 100]\n",
    "df2 = df2[df2.Count > 100]\n",
    "df_filtered1 = df2[df2.Word.isin(df1['Word'])]\n",
    "fig, ax = plt.subplots(figsize=(8,8))\n",
    "ax.barh(df_filtered1['Word'], df_filtered1['Count'])\n",
    "ax.set_title('Common Words for Both Channels (Count > 100)')"
   ]
  },
  {
   "cell_type": "markdown",
   "id": "abdd2790",
   "metadata": {},
   "source": [
    "## Text Mining"
   ]
  },
  {
   "cell_type": "code",
   "execution_count": 21,
   "id": "d6ec7b1a",
   "metadata": {},
   "outputs": [],
   "source": [
    "reTokenizer = RegexTokenizer(inputCol='user_msg', outputCol='words', pattern='\\\\W')\n",
    "\n",
    "#remove the default stopwords \n",
    "defaultWords = StopWordsRemover.loadDefaultStopWords('english')\n",
    "defaultStopWordsRemover = StopWordsRemover(inputCol='words', outputCol='defaultFiltered').setStopWords(defaultWords)\n",
    "#add custom stopwords\n",
    "stopwords = ['think', 'go', 'time', 'good', 'omegalul', 'lol', 'pog', 'like', 'get', 'nightbot', 'd', 'lul', 'https']\n",
    "CustomStopWordsRemover = StopWordsRemover(inputCol='defaultFiltered', outputCol='filtered').setStopWords(stopwords)\n",
    "\n",
    "hashingTF = HashingTF(inputCol='filtered', outputCol='rawFeatures', numFeatures=2000)\n",
    "idf = IDF(inputCol='rawFeatures', outputCol='features')\n",
    "\n",
    "channel_stringIdx = StringIndexer(inputCol = 'channel', outputCol = 'target')"
   ]
  },
  {
   "cell_type": "markdown",
   "id": "b34038cd",
   "metadata": {},
   "source": [
    "## Model"
   ]
  },
  {
   "cell_type": "code",
   "execution_count": null,
   "id": "63c8318d",
   "metadata": {},
   "outputs": [],
   "source": [
    "(trainingData, testData) = data.randomSplit([0.7, 0.3], seed=42)\n",
    "# Train a GBT model\n",
    "gbt = GBTClassifier(labelCol=\"target\", featuresCol=\"features\", maxIter=50, maxDepth=20, maxBins=20)\n",
    "# Chain feature transformer steps and GBT in a Pipeline\n",
    "pipeline = Pipeline(stages=[reTokenizer, defaultStopWordsRemover, CustomStopWordsRemover, hashingTF, idf, channel_stringIdx, gbt])\n",
    "\n",
    "# Train the model\n",
    "model = pipeline.fit(trainingData)\n",
    "\n",
    "# Make predictions\n",
    "predictions = model.transform(testData)\n"
   ]
  },
  {
   "cell_type": "code",
   "execution_count": 23,
   "id": "6508fde9",
   "metadata": {},
   "outputs": [
    {
     "name": "stderr",
     "output_type": "stream",
     "text": [
      "22/05/05 14:19:53 WARN DAGScheduler: Broadcasting large task binary with size 2.1 MiB\n",
      "22/05/05 14:19:53 WARN InstanceBuilder$NativeBLAS: Failed to load implementation from:dev.ludovic.netlib.blas.JNIBLAS\n",
      "22/05/05 14:19:53 WARN InstanceBuilder$NativeBLAS: Failed to load implementation from:dev.ludovic.netlib.blas.ForeignLinkerBLAS\n",
      "                                                                                \r"
     ]
    },
    {
     "name": "stdout",
     "output_type": "stream",
     "text": [
      "              precision    recall  f1-score   support\n",
      "\n",
      "         0.0       0.81      0.94      0.87      5602\n",
      "         1.0       0.87      0.62      0.72      3379\n",
      "\n",
      "    accuracy                           0.82      8981\n",
      "   macro avg       0.84      0.78      0.80      8981\n",
      "weighted avg       0.83      0.82      0.81      8981\n",
      "\n",
      "Accuracy Score = 0.8218461195857922\n",
      "Precision Score = 0.8674101610904585\n",
      "F1 Score = 0.7241379310344827\n"
     ]
    }
   ],
   "source": [
    "gbt_true = predictions.select(['target']).collect()\n",
    "gbt_pred = predictions.select(['prediction']).collect()\n",
    "\n",
    "from sklearn.metrics import classification_report, confusion_matrix, accuracy_score, precision_score, f1_score\n",
    "print(classification_report(gbt_true, gbt_pred))\n",
    "gbt_accuracy = accuracy_score(gbt_true, gbt_pred)\n",
    "gbt_precision = precision_score(gbt_true, gbt_pred)\n",
    "gbt_f1 = f1_score(gbt_true, gbt_pred)\n",
    "print(\"Accuracy Score = %s\" % gbt_accuracy)\n",
    "print(\"Precision Score = %s\" % gbt_precision)\n",
    "print(\"F1 Score = %s\" % gbt_f1)"
   ]
  },
  {
   "cell_type": "code",
   "execution_count": 24,
   "id": "ae9c1acb",
   "metadata": {},
   "outputs": [
    {
     "data": {
      "image/png": "[encoded data removed]",
      "text/plain": [
       "<Figure size 432x288 with 2 Axes>"
      ]
     },
     "metadata": {
      "needs_background": "light"
     },
     "output_type": "display_data"
    }
   ],
   "source": [
    "cm = confusion_matrix(gbt_true, gbt_pred)\n",
    "fig = sns.heatmap(cm,annot=True,fmt='d',cmap='Blues')\n",
    "fig.set_title('Confusion Matrix\\n')\n",
    "fig.set_xlabel('Predicted Values')\n",
    "fig.set_ylabel('Actual Values')\n",
    "plt.show()"
   ]
  },
  {
   "cell_type": "code",
   "execution_count": 26,
   "id": "f777c88c",
   "metadata": {},
   "outputs": [
    {
     "name": "stderr",
     "output_type": "stream",
     "text": [
      "22/05/05 14:25:36 WARN BLAS: Failed to load implementation from: com.github.fommil.netlib.NativeSystemBLAS\n",
      "22/05/05 14:25:36 WARN BLAS: Failed to load implementation from: com.github.fommil.netlib.NativeRefBLAS\n"
     ]
    }
   ],
   "source": [
    "# Linear Support Vector Machine\n",
    "svc = LinearSVC(labelCol='target', featuresCol='features', maxIter=500, regParam=0.3)\n",
    "pipeline_svc = Pipeline(stages=[reTokenizer, defaultStopWordsRemover, CustomStopWordsRemover, hashingTF, idf, channel_stringIdx, svc])\n",
    "model_svc = pipeline_svc.fit(trainingData)\n",
    "predictions_svc = model_svc.transform(testData)"
   ]
  },
  {
   "cell_type": "code",
   "execution_count": 27,
   "id": "cf41ee00",
   "metadata": {},
   "outputs": [
    {
     "name": "stderr",
     "output_type": "stream",
     "text": [
      "\r",
      "[Stage 2451:======================================>              (87 + 8) / 121]\r",
      "\r",
      "                                                                                \r"
     ]
    },
    {
     "name": "stdout",
     "output_type": "stream",
     "text": [
      "              precision    recall  f1-score   support\n",
      "\n",
      "         0.0       0.83      0.94      0.88      5602\n",
      "         1.0       0.88      0.68      0.77      3379\n",
      "\n",
      "    accuracy                           0.85      8981\n",
      "   macro avg       0.86      0.81      0.83      8981\n",
      "weighted avg       0.85      0.85      0.84      8981\n",
      "\n"
     ]
    }
   ],
   "source": [
    "y_true = predictions_svc.select(['target']).collect()\n",
    "y_pred = predictions_svc.select(['prediction']).collect()\n",
    "from sklearn.metrics import classification_report, confusion_matrix, roc_auc_score\n",
    "print(classification_report(y_true, y_pred))\n"
   ]
  },
  {
   "cell_type": "code",
   "execution_count": 28,
   "id": "c398fd54",
   "metadata": {},
   "outputs": [
    {
     "data": {
      "image/png": "[encoded data removed]",
      "text/plain": [
       "<Figure size 432x288 with 2 Axes>"
      ]
     },
     "metadata": {
      "needs_background": "light"
     },
     "output_type": "display_data"
    }
   ],
   "source": [
    "cm = confusion_matrix(y_true, y_pred)\n",
    "fig = sns.heatmap(cm,annot=True,fmt='d',cmap='Blues')\n",
    "fig.set_title('Confusion Matrix\\n')\n",
    "fig.set_xlabel('Predicted Values')\n",
    "fig.set_ylabel('Actual Values')\n",
    "plt.show()"
   ]
  },
  {
   "cell_type": "markdown",
   "id": "327786af",
   "metadata": {},
   "source": [
    "## Model Prediction in Real-time\n",
    "Using Linear Support Vector Machine as it got better results"
   ]
  },
  {
   "cell_type": "code",
   "execution_count": 32,
   "id": "e838faa6",
   "metadata": {},
   "outputs": [
    {
     "name": "stderr",
     "output_type": "stream",
     "text": [
      "\r",
      "[Stage 2460:>                                                       (0 + 1) / 1]\r",
      "\r",
      "                                                                                \r"
     ]
    }
   ],
   "source": [
    "#model.write().overwrite().save(\"../gbt_model\")\n",
    "model_svc.write().overwrite().save('../svc_model')"
   ]
  },
  {
   "cell_type": "code",
   "execution_count": null,
   "id": "4636b3b6",
   "metadata": {},
   "outputs": [],
   "source": [
    "import threading\n",
    "\n",
    "# Helper thread to avoid the Spark StreamingContext from blocking Jupyter      \n",
    "class StreamingThread(threading.Thread):\n",
    "    def __init__(self, ssc):\n",
    "        super().__init__()\n",
    "        self.ssc = ssc\n",
    "    def run(self):\n",
    "        self.ssc.start()\n",
    "        self.ssc.awaitTermination()\n",
    "    def stop(self):\n",
    "        print('----- Stopping... this may take a few seconds -----')\n",
    "        self.ssc.stop(stopSparkContext=False, stopGraceFully=True)"
   ]
  },
  {
   "cell_type": "code",
   "execution_count": null,
   "id": "8957a52f",
   "metadata": {},
   "outputs": [],
   "source": [
    "sc"
   ]
  },
  {
   "cell_type": "code",
   "execution_count": null,
   "id": "9417500b",
   "metadata": {},
   "outputs": [],
   "source": [
    "spark"
   ]
  },
  {
   "cell_type": "code",
   "execution_count": null,
   "id": "53b5f5df",
   "metadata": {},
   "outputs": [],
   "source": [
    "svc_model = model.load(\"../svc_model\")\n",
    "globals()['models_loaded'] = False\n",
    "globals()['my_model'] = None\n",
    "\n",
    "def process(time, rdd):\n",
    "    if rdd.isEmpty():\n",
    "        return\n",
    "\n",
    "    print(\"========= %s =========\" % str(time))\n",
    "\n",
    "# Convert to data frame\n",
    "    df = spark.read.json(rdd)\n",
    "    df=df.select(\"*\", concat(col('message'),lit(' '),col('username')).alias('user_msg'))\n",
    "    df.show()\n",
    "\n",
    "#transform new incoming data\n",
    "   # dataset = pipelineFit.transform(df)\n",
    "\n",
    "# Load in the model if not yet loaded:\n",
    "    if not globals()['models_loaded']:\n",
    "# load in your models here\n",
    "       globals()['my_model'] = gbt_model\n",
    "       globals()['models_loaded'] = True\n",
    "\n",
    "# And then predict using the loaded model:\n",
    "    df_result = globals()['my_model'].transform(df)\n",
    "    df_result = df_result.select('channel','datetime','message','username', 'user_msg','target','prediction')\n",
    "    df_result.show()"
   ]
  },
  {
   "cell_type": "code",
   "execution_count": null,
   "id": "e1e6304e",
   "metadata": {},
   "outputs": [],
   "source": [
    "ssc = StreamingContext(sc, 10)\n",
    "lines = ssc.socketTextStream(\"localhost\", 8080)\n",
    "lines.foreachRDD(process)\n",
    "ssc_t = StreamingThread(ssc)\n",
    "ssc_t.start()"
   ]
  },
  {
   "cell_type": "code",
   "execution_count": null,
   "id": "8c77c574",
   "metadata": {
    "scrolled": true
   },
   "outputs": [],
   "source": [
    "ssc_t.stop()"
   ]
  },
  {
   "cell_type": "markdown",
   "id": "37911609",
   "metadata": {},
   "source": [
    "## Full Spark ML Pipeline needs to be presented in report"
   ]
  },
  {
   "cell_type": "markdown",
   "id": "b5d02fc5",
   "metadata": {},
   "source": [
    "### Collecting and saving data\n",
    "At the end of this section, attach a data.show() results to denmostrate the data we got"
   ]
  },
  {
   "cell_type": "code",
   "execution_count": null,
   "id": "618c39b1",
   "metadata": {},
   "outputs": [],
   "source": [
    "# Choose channeels we would like to predict\n",
    "!python local_proxy.py TheStockGuy Distortion2\n",
    "\n",
    "import threading\n",
    "# Helper thread to avoid the Spark StreamingContext from blocking Jupyter    \n",
    "class StreamingThread(threading.Thread):\n",
    "    def __init__(self, ssc):\n",
    "        super().__init__()\n",
    "        self.ssc = ssc\n",
    "    def run(self):\n",
    "        self.ssc.start()\n",
    "        self.ssc.awaitTermination()\n",
    "    def stop(self):\n",
    "        print('----- Stopping... this may take a few seconds -----')\n",
    "        self.ssc.stop(stopSparkContext=False, stopGraceFully=True)\n",
    "sc\n",
    "\n",
    "from pyspark.streaming import StreamingContext\n",
    "ssc = StreamingContext(sc, 10)\n",
    "lines = ssc.socketTextStream(\"localhost\", 8080)\n",
    "lines.saveAsTextFiles(\"path\")\n",
    "ssc_t = StreamingThread(ssc)\n",
    "ssc_t.start()\n",
    "ssc_t.stop()\n",
    "\n",
    "files = glob.glob('path')\n",
    "sqlContext = SQLContext(sc)\n",
    "data = sqlContext.read.format('json').option(\"header\", \"true\").load(files)\n",
    "data.show()"
   ]
  },
  {
   "cell_type": "markdown",
   "id": "79a73a2b",
   "metadata": {},
   "source": [
    "### Text Mining and Model Training\n",
    "Use svc model here as it has better results"
   ]
  },
  {
   "cell_type": "code",
   "execution_count": null,
   "id": "f05784b9",
   "metadata": {},
   "outputs": [],
   "source": [
    "# Pipeline\n",
    "## Text mining\n",
    "reTokenizer = RegexTokenizer(inputCol='user_msg', outputCol='words', pattern='\\\\W')\n",
    "\n",
    "#remove the default stopwords \n",
    "defaultWords = StopWordsRemover.loadDefaultStopWords('english')\n",
    "defaultStopWordsRemover = StopWordsRemover(inputCol='words', outputCol='defaultFiltered').setStopWords(defaultWords)\n",
    "#add custom stopwords\n",
    "stopwords = ['think', 'go', 'time', 'good', 'omegalul', 'lol', 'pog', 'like', 'get', 'nightbot', 'd', 'lul', 'https']\n",
    "CustomStopWordsRemover = StopWordsRemover(inputCol='defaultFiltered', outputCol='filtered').setStopWords(stopwords)\n",
    "\n",
    "hashingTF = HashingTF(inputCol='filtered', outputCol='rawFeatures', numFeatures=2000)\n",
    "idf = IDF(inputCol='rawFeatures', outputCol='features')\n",
    "\n",
    "channel_stringIdx = StringIndexer(inputCol = 'channel', outputCol = 'target')\n",
    "\n",
    "## SVC model\n",
    "(trainingData, testData) = data.randomSplit([0.7, 0.3], seed=42)\n",
    "svc = LinearSVC(labelCol='target', featuresCol='features', maxIter=500, regParam=0.3)\n",
    "pipeline_svc = Pipeline(stages=[reTokenizer, defaultStopWordsRemover, CustomStopWordsRemover, hashingTF, idf, channel_stringIdx, svc])\n",
    "model_svc = pipeline_svc.fit(trainingData)\n",
    "predictions_svc = model_svc.transform(testData)\n",
    "\n",
    "## Save the trained model\n",
    "model_svc.write().overwrite().save('path')\n"
   ]
  },
  {
   "cell_type": "markdown",
   "id": "6690cb88",
   "metadata": {},
   "source": [
    "### Prediction in Real-time\n",
    "at the end of this section, attach some screen shots of the prediction we got"
   ]
  },
  {
   "cell_type": "code",
   "execution_count": null,
   "id": "da4d3f2f",
   "metadata": {},
   "outputs": [],
   "source": [
    "svc_model = model.load(\"path\")\n",
    "globals()['models_loaded'] = False\n",
    "globals()['my_model'] = None\n",
    "\n",
    "def process(time, rdd):\n",
    "    if rdd.isEmpty():\n",
    "        return\n",
    "\n",
    "    print(\"========= %s =========\" % str(time))\n",
    "\n",
    "    # Convert to data frame\n",
    "    df = spark.read.json(rdd)\n",
    "    df=df.select(\"*\", concat(col('message'),lit(' '),col('username')).alias('user_msg'))\n",
    "    df.show()\n",
    "\n",
    "    # Load in the model if not yet loaded:\n",
    "    if not globals()['models_loaded']:\n",
    "    # load in your models here\n",
    "        globals()['my_model'] = gbt_model\n",
    "        globals()['models_loaded'] = True\n",
    "\n",
    "    # And then predict using the loaded model:\n",
    "    df_result = globals()['my_model'].transform(df)\n",
    "    df_result = df_result.select('channel','datetime','message','username','target','prediction')\n",
    "    df_result.show()\n",
    "    \n",
    "ssc = StreamingContext(sc, 10)\n",
    "lines = ssc.socketTextStream(\"localhost\", 8080)\n",
    "lines.foreachRDD(process)\n",
    "ssc_t = StreamingThread(ssc)\n",
    "ssc_t.start()\n",
    "ssc_t.stop()"
   ]
  }
 ],
 "metadata": {
  "kernelspec": {
   "display_name": "Python 3 (ipykernel)",
   "language": "python",
   "name": "python3"
  },
  "language_info": {
   "codemirror_mode": {
    "name": "ipython",
    "version": 3
   },
   "file_extension": ".py",
   "mimetype": "text/x-python",
   "name": "python",
   "nbconvert_exporter": "python",
   "pygments_lexer": "ipython3",
   "version": "3.9.7"
  },
  "toc": {
   "base_numbering": 1,
   "nav_menu": {},
   "number_sections": true,
   "sideBar": true,
   "skip_h1_title": false,
   "title_cell": "Table of Contents",
   "title_sidebar": "Contents",
   "toc_cell": false,
   "toc_position": {},
   "toc_section_display": true,
   "toc_window_display": true
  }
 },
 "nbformat": 4,
 "nbformat_minor": 5
}
